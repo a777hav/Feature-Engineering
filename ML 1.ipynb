{
 "cells": [
  {
   "cell_type": "markdown",
   "id": "0076a089",
   "metadata": {},
   "source": [
    "### 1. What is a parameter?"
   ]
  },
  {
   "cell_type": "markdown",
   "id": "bbc559a5",
   "metadata": {},
   "source": [
    "In statistics and machine learning, a parameter is a value that describes a characteristic of a population or model. In machine learning models, parameters are internal variables that are learned from the training data, such as the weights in a linear regression model."
   ]
  },
  {
   "cell_type": "markdown",
   "id": "eecaf342",
   "metadata": {},
   "source": [
    "### 2. What is correlation?"
   ]
  },
  {
   "cell_type": "markdown",
   "id": "777bec88",
   "metadata": {},
   "source": [
    "Correlation is a statistical measure that expresses the extent to which two variables are linearly related. It ranges from -1 to 1, where 1 indicates perfect positive correlation, -1 indicates perfect negative correlation, and 0 means no linear correlation."
   ]
  },
  {
   "cell_type": "markdown",
   "id": "7ffece3e",
   "metadata": {},
   "source": [
    "### 3. What does negative correlation mean?"
   ]
  },
  {
   "cell_type": "markdown",
   "id": "e46e6ef5",
   "metadata": {},
   "source": [
    "Negative correlation means that as one variable increases, the other variable tends to decrease. It indicates an inverse relationship between two variables."
   ]
  },
  {
   "cell_type": "markdown",
   "id": "0caa4ae4",
   "metadata": {},
   "source": [
    "### 4. Define Machine Learning. What are the main components in Machine Learning?"
   ]
  },
  {
   "cell_type": "markdown",
   "id": "d88ebe29",
   "metadata": {},
   "source": [
    "Machine Learning is a field of computer science that enables systems to learn and make predictions or decisions without being explicitly programmed. The main components are: data, model, loss function, optimization algorithm, and evaluation metric."
   ]
  },
  {
   "cell_type": "markdown",
   "id": "c87c86d2",
   "metadata": {},
   "source": [
    "### 5. How does loss value help in determining whether the model is good or not?"
   ]
  },
  {
   "cell_type": "markdown",
   "id": "32ab2e73",
   "metadata": {},
   "source": [
    "The loss value measures how far the predicted values are from the actual values. A lower loss indicates a better model performance, whereas a higher loss indicates poor predictions."
   ]
  },
  {
   "cell_type": "markdown",
   "id": "ff0c4dce",
   "metadata": {},
   "source": [
    "### 6. What are continuous and categorical variables?"
   ]
  },
  {
   "cell_type": "markdown",
   "id": "5ed35962",
   "metadata": {},
   "source": [
    "Continuous variables can take any numerical value within a range (e.g., height, weight), while categorical variables represent categories or groups (e.g., gender, color)."
   ]
  },
  {
   "cell_type": "markdown",
   "id": "177fa024",
   "metadata": {},
   "source": [
    "### 7. How do we handle categorical variables in Machine Learning? What are the common techniques?"
   ]
  },
  {
   "cell_type": "markdown",
   "id": "ebc80ca2",
   "metadata": {},
   "source": [
    "Categorical variables are handled using techniques such as label encoding and one-hot encoding."
   ]
  },
  {
   "cell_type": "markdown",
   "id": "3510728c",
   "metadata": {},
   "source": [
    "### 8. What do you mean by training and testing a dataset?"
   ]
  },
  {
   "cell_type": "markdown",
   "id": "4f7dda03",
   "metadata": {},
   "source": [
    "Training a dataset involves using data to fit a machine learning model. Testing evaluates the model’s performance on unseen data to ensure it generalizes well."
   ]
  },
  {
   "cell_type": "markdown",
   "id": "cb43a3f5",
   "metadata": {},
   "source": [
    "### 9. What is sklearn.preprocessing?"
   ]
  },
  {
   "cell_type": "markdown",
   "id": "066a813c",
   "metadata": {},
   "source": [
    "`sklearn.preprocessing` is a module in scikit-learn that provides functions and classes for scaling, transforming, and encoding features in a dataset."
   ]
  },
  {
   "cell_type": "markdown",
   "id": "f7b328bc",
   "metadata": {},
   "source": [
    "### 10. What is a Test set?"
   ]
  },
  {
   "cell_type": "markdown",
   "id": "0723c1b4",
   "metadata": {},
   "source": [
    "A test set is a subset of the data used to evaluate the performance of a trained machine learning model."
   ]
  },
  {
   "cell_type": "markdown",
   "id": "0b810466",
   "metadata": {},
   "source": [
    "### 11. How do we split data for model fitting (training and testing) in Python?"
   ]
  },
  {
   "cell_type": "code",
   "execution_count": null,
   "id": "529f7209",
   "metadata": {},
   "outputs": [],
   "source": [
    "from sklearn.model_selection import train_test_split\n",
    "X_train, X_test, y_train, y_test = train_test_split(X, y, test_size=0.2, random_state=42)\n"
   ]
  },
  {
   "cell_type": "markdown",
   "id": "32377cdf",
   "metadata": {},
   "source": [
    "### 12. How do you approach a Machine Learning problem?"
   ]
  },
  {
   "cell_type": "markdown",
   "id": "755fd408",
   "metadata": {},
   "source": [
    "1. Understand the problem\n",
    "2. Collect and clean data\n",
    "3. Perform EDA\n",
    "4. Choose a model\n",
    "5. Train the model\n",
    "6. Evaluate the model\n",
    "7. Tune hyperparameters\n",
    "8. Deploy the model"
   ]
  },
  {
   "cell_type": "markdown",
   "id": "4aac5008",
   "metadata": {},
   "source": [
    "### 13. Why do we have to perform EDA before fitting a model to the data?"
   ]
  },
  {
   "cell_type": "markdown",
   "id": "69218478",
   "metadata": {},
   "source": [
    "EDA (Exploratory Data Analysis) helps in understanding the data distribution, spotting outliers, detecting patterns, and ensuring the data quality before modeling."
   ]
  },
  {
   "cell_type": "markdown",
   "id": "b4d82513",
   "metadata": {},
   "source": [
    "### 14. What is correlation?"
   ]
  },
  {
   "cell_type": "markdown",
   "id": "6f7cfe8d",
   "metadata": {},
   "source": [
    "Correlation is a statistical measure that indicates the extent to which two variables fluctuate together. It ranges from -1 to 1."
   ]
  },
  {
   "cell_type": "markdown",
   "id": "7762c45a",
   "metadata": {},
   "source": [
    "### 15. What does negative correlation mean?"
   ]
  },
  {
   "cell_type": "markdown",
   "id": "f403b8d8",
   "metadata": {},
   "source": [
    "Negative correlation implies that as one variable increases, the other decreases."
   ]
  },
  {
   "cell_type": "markdown",
   "id": "9a00909e",
   "metadata": {},
   "source": [
    "### 16. How can you find correlation between variables in Python?"
   ]
  },
  {
   "cell_type": "code",
   "execution_count": null,
   "id": "f90f3101",
   "metadata": {},
   "outputs": [],
   "source": [
    "df.corr()\n"
   ]
  },
  {
   "cell_type": "markdown",
   "id": "d07fbd67",
   "metadata": {},
   "source": [
    "### 17. What is causation? Explain difference between correlation and causation with an example."
   ]
  },
  {
   "cell_type": "markdown",
   "id": "0eb48bff",
   "metadata": {},
   "source": [
    "Causation means that one event causes another. Correlation means two events occur together but one does not necessarily cause the other. Example: Ice cream sales and drowning deaths are correlated, but both are caused by higher temperatures."
   ]
  },
  {
   "cell_type": "markdown",
   "id": "d8f580fe",
   "metadata": {},
   "source": [
    "### 18. What is an Optimizer? What are different types of optimizers? Explain each with an example."
   ]
  },
  {
   "cell_type": "code",
   "execution_count": null,
   "id": "53c0f598",
   "metadata": {},
   "outputs": [],
   "source": [
    "An optimizer adjusts model parameters to minimize loss. Examples:\n",
    "- SGD: Stochastic Gradient Descent\n",
    "- Adam: Adaptive Moment Estimation\n",
    "from tensorflow.keras.optimizers import SGD, Adam\n",
    "optimizer = Adam(learning_rate=0.01)\n"
   ]
  },
  {
   "cell_type": "markdown",
   "id": "971ed6ed",
   "metadata": {},
   "source": [
    "### 19. What is sklearn.linear_model ?"
   ]
  },
  {
   "cell_type": "markdown",
   "id": "f9ccbd97",
   "metadata": {},
   "source": [
    "`sklearn.linear_model` is a module in scikit-learn that provides linear models for regression and classification, such as LinearRegression and LogisticRegression."
   ]
  },
  {
   "cell_type": "markdown",
   "id": "19392324",
   "metadata": {},
   "source": [
    "### 20. What does model.fit() do? What arguments must be given?"
   ]
  },
  {
   "cell_type": "code",
   "execution_count": null,
   "id": "97ad470e",
   "metadata": {},
   "outputs": [],
   "source": [
    "`model.fit()` trains the model using the training data.\n",
    "Arguments: X (features), y (target)\n",
    "model.fit(X_train, y_train)\n"
   ]
  },
  {
   "cell_type": "markdown",
   "id": "8a725b0b",
   "metadata": {},
   "source": [
    "### 21. What does model.predict() do? What arguments must be given?"
   ]
  },
  {
   "cell_type": "code",
   "execution_count": null,
   "id": "b1788b0b",
   "metadata": {},
   "outputs": [],
   "source": [
    "`model.predict()` makes predictions on new/unseen data.\n",
    "Arguments: X (input data)\n",
    "predictions = model.predict(X_test)\n"
   ]
  },
  {
   "cell_type": "markdown",
   "id": "b9e91e16",
   "metadata": {},
   "source": [
    "### 22. What are continuous and categorical variables?"
   ]
  },
  {
   "cell_type": "markdown",
   "id": "51b60d45",
   "metadata": {},
   "source": [
    "Continuous variables are numeric and can take any value (e.g., age), while categorical variables represent discrete groups (e.g., gender)."
   ]
  },
  {
   "cell_type": "markdown",
   "id": "e7294856",
   "metadata": {},
   "source": [
    "### 23. What is feature scaling? How does it help in Machine Learning?"
   ]
  },
  {
   "cell_type": "markdown",
   "id": "3a0c9615",
   "metadata": {},
   "source": [
    "Feature scaling transforms features to a similar scale. It improves model performance and convergence speed, especially for distance-based algorithms."
   ]
  },
  {
   "cell_type": "markdown",
   "id": "82c14409",
   "metadata": {},
   "source": [
    "### 24. How do we perform scaling in Python?"
   ]
  },
  {
   "cell_type": "code",
   "execution_count": null,
   "id": "066a43e1",
   "metadata": {},
   "outputs": [],
   "source": [
    "from sklearn.preprocessing import StandardScaler\n",
    "scaler = StandardScaler()\n",
    "X_scaled = scaler.fit_transform(X)\n"
   ]
  },
  {
   "cell_type": "markdown",
   "id": "358b742e",
   "metadata": {},
   "source": [
    "### 25. What is sklearn.preprocessing?"
   ]
  },
  {
   "cell_type": "markdown",
   "id": "cd6636a8",
   "metadata": {},
   "source": [
    "`sklearn.preprocessing` provides functions to preprocess the data like scaling, normalization, and encoding."
   ]
  }
 ],
 "metadata": {},
 "nbformat": 4,
 "nbformat_minor": 5
}
